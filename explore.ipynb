{
 "cells": [
  {
   "cell_type": "markdown",
   "metadata": {},
   "source": [
    "# Fake News Detection: Can we build a classifier that can accurately detect fake news?"
   ]
  },
  {
   "cell_type": "code",
   "execution_count": 1,
   "metadata": {},
   "outputs": [],
   "source": [
    "from imports import *\n"
   ]
  },
  {
   "cell_type": "markdown",
   "metadata": {},
   "source": [
    "### Initial exploration "
   ]
  },
  {
   "cell_type": "code",
   "execution_count": 2,
   "metadata": {},
   "outputs": [
    {
     "name": "stdout",
     "output_type": "stream",
     "text": [
      "<class 'pandas.core.frame.DataFrame'>\n",
      "RangeIndex: 21417 entries, 0 to 21416\n",
      "Data columns (total 4 columns):\n",
      " #   Column   Non-Null Count  Dtype \n",
      "---  ------   --------------  ----- \n",
      " 0   title    21417 non-null  object\n",
      " 1   text     21417 non-null  object\n",
      " 2   subject  21417 non-null  object\n",
      " 3   date     21417 non-null  object\n",
      "dtypes: object(4)\n",
      "memory usage: 669.4+ KB\n"
     ]
    }
   ],
   "source": [
    "true_df = pd.read_csv('True.csv')\n",
    "\n",
    "true_df.info()"
   ]
  },
  {
   "cell_type": "code",
   "execution_count": 3,
   "metadata": {},
   "outputs": [
    {
     "name": "stdout",
     "output_type": "stream",
     "text": [
      "<class 'pandas.core.frame.DataFrame'>\n",
      "RangeIndex: 23481 entries, 0 to 23480\n",
      "Data columns (total 4 columns):\n",
      " #   Column   Non-Null Count  Dtype \n",
      "---  ------   --------------  ----- \n",
      " 0   title    23481 non-null  object\n",
      " 1   text     23481 non-null  object\n",
      " 2   subject  23481 non-null  object\n",
      " 3   date     23481 non-null  object\n",
      "dtypes: object(4)\n",
      "memory usage: 733.9+ KB\n"
     ]
    }
   ],
   "source": [
    "fake_df = pd.read_csv('Fake.csv')\n",
    "\n",
    "fake_df.info()"
   ]
  },
  {
   "cell_type": "code",
   "execution_count": 4,
   "metadata": {},
   "outputs": [
    {
     "data": {
      "text/html": [
       "<div>\n",
       "<style scoped>\n",
       "    .dataframe tbody tr th:only-of-type {\n",
       "        vertical-align: middle;\n",
       "    }\n",
       "\n",
       "    .dataframe tbody tr th {\n",
       "        vertical-align: top;\n",
       "    }\n",
       "\n",
       "    .dataframe thead th {\n",
       "        text-align: right;\n",
       "    }\n",
       "</style>\n",
       "<table border=\"1\" class=\"dataframe\">\n",
       "  <thead>\n",
       "    <tr style=\"text-align: right;\">\n",
       "      <th></th>\n",
       "      <th>title</th>\n",
       "      <th>text</th>\n",
       "      <th>subject</th>\n",
       "      <th>date</th>\n",
       "    </tr>\n",
       "  </thead>\n",
       "  <tbody>\n",
       "    <tr>\n",
       "      <th>0</th>\n",
       "      <td>As U.S. budget fight looms, Republicans flip t...</td>\n",
       "      <td>WASHINGTON (Reuters) - The head of a conservat...</td>\n",
       "      <td>politicsNews</td>\n",
       "      <td>December 31, 2017</td>\n",
       "    </tr>\n",
       "    <tr>\n",
       "      <th>1</th>\n",
       "      <td>U.S. military to accept transgender recruits o...</td>\n",
       "      <td>WASHINGTON (Reuters) - Transgender people will...</td>\n",
       "      <td>politicsNews</td>\n",
       "      <td>December 29, 2017</td>\n",
       "    </tr>\n",
       "    <tr>\n",
       "      <th>2</th>\n",
       "      <td>Senior U.S. Republican senator: 'Let Mr. Muell...</td>\n",
       "      <td>WASHINGTON (Reuters) - The special counsel inv...</td>\n",
       "      <td>politicsNews</td>\n",
       "      <td>December 31, 2017</td>\n",
       "    </tr>\n",
       "    <tr>\n",
       "      <th>3</th>\n",
       "      <td>FBI Russia probe helped by Australian diplomat...</td>\n",
       "      <td>WASHINGTON (Reuters) - Trump campaign adviser ...</td>\n",
       "      <td>politicsNews</td>\n",
       "      <td>December 30, 2017</td>\n",
       "    </tr>\n",
       "    <tr>\n",
       "      <th>4</th>\n",
       "      <td>Trump wants Postal Service to charge 'much mor...</td>\n",
       "      <td>SEATTLE/WASHINGTON (Reuters) - President Donal...</td>\n",
       "      <td>politicsNews</td>\n",
       "      <td>December 29, 2017</td>\n",
       "    </tr>\n",
       "  </tbody>\n",
       "</table>\n",
       "</div>"
      ],
      "text/plain": [
       "                                               title  \\\n",
       "0  As U.S. budget fight looms, Republicans flip t...   \n",
       "1  U.S. military to accept transgender recruits o...   \n",
       "2  Senior U.S. Republican senator: 'Let Mr. Muell...   \n",
       "3  FBI Russia probe helped by Australian diplomat...   \n",
       "4  Trump wants Postal Service to charge 'much mor...   \n",
       "\n",
       "                                                text       subject  \\\n",
       "0  WASHINGTON (Reuters) - The head of a conservat...  politicsNews   \n",
       "1  WASHINGTON (Reuters) - Transgender people will...  politicsNews   \n",
       "2  WASHINGTON (Reuters) - The special counsel inv...  politicsNews   \n",
       "3  WASHINGTON (Reuters) - Trump campaign adviser ...  politicsNews   \n",
       "4  SEATTLE/WASHINGTON (Reuters) - President Donal...  politicsNews   \n",
       "\n",
       "                 date  \n",
       "0  December 31, 2017   \n",
       "1  December 29, 2017   \n",
       "2  December 31, 2017   \n",
       "3  December 30, 2017   \n",
       "4  December 29, 2017   "
      ]
     },
     "execution_count": 4,
     "metadata": {},
     "output_type": "execute_result"
    }
   ],
   "source": [
    "true_df.head()"
   ]
  },
  {
   "cell_type": "code",
   "execution_count": 5,
   "metadata": {},
   "outputs": [
    {
     "data": {
      "text/html": [
       "<div>\n",
       "<style scoped>\n",
       "    .dataframe tbody tr th:only-of-type {\n",
       "        vertical-align: middle;\n",
       "    }\n",
       "\n",
       "    .dataframe tbody tr th {\n",
       "        vertical-align: top;\n",
       "    }\n",
       "\n",
       "    .dataframe thead th {\n",
       "        text-align: right;\n",
       "    }\n",
       "</style>\n",
       "<table border=\"1\" class=\"dataframe\">\n",
       "  <thead>\n",
       "    <tr style=\"text-align: right;\">\n",
       "      <th></th>\n",
       "      <th>title</th>\n",
       "      <th>text</th>\n",
       "      <th>subject</th>\n",
       "      <th>date</th>\n",
       "    </tr>\n",
       "  </thead>\n",
       "  <tbody>\n",
       "    <tr>\n",
       "      <th>0</th>\n",
       "      <td>Donald Trump Sends Out Embarrassing New Year’...</td>\n",
       "      <td>Donald Trump just couldn t wish all Americans ...</td>\n",
       "      <td>News</td>\n",
       "      <td>December 31, 2017</td>\n",
       "    </tr>\n",
       "    <tr>\n",
       "      <th>1</th>\n",
       "      <td>Drunk Bragging Trump Staffer Started Russian ...</td>\n",
       "      <td>House Intelligence Committee Chairman Devin Nu...</td>\n",
       "      <td>News</td>\n",
       "      <td>December 31, 2017</td>\n",
       "    </tr>\n",
       "    <tr>\n",
       "      <th>2</th>\n",
       "      <td>Sheriff David Clarke Becomes An Internet Joke...</td>\n",
       "      <td>On Friday, it was revealed that former Milwauk...</td>\n",
       "      <td>News</td>\n",
       "      <td>December 30, 2017</td>\n",
       "    </tr>\n",
       "    <tr>\n",
       "      <th>3</th>\n",
       "      <td>Trump Is So Obsessed He Even Has Obama’s Name...</td>\n",
       "      <td>On Christmas day, Donald Trump announced that ...</td>\n",
       "      <td>News</td>\n",
       "      <td>December 29, 2017</td>\n",
       "    </tr>\n",
       "    <tr>\n",
       "      <th>4</th>\n",
       "      <td>Pope Francis Just Called Out Donald Trump Dur...</td>\n",
       "      <td>Pope Francis used his annual Christmas Day mes...</td>\n",
       "      <td>News</td>\n",
       "      <td>December 25, 2017</td>\n",
       "    </tr>\n",
       "  </tbody>\n",
       "</table>\n",
       "</div>"
      ],
      "text/plain": [
       "                                               title  \\\n",
       "0   Donald Trump Sends Out Embarrassing New Year’...   \n",
       "1   Drunk Bragging Trump Staffer Started Russian ...   \n",
       "2   Sheriff David Clarke Becomes An Internet Joke...   \n",
       "3   Trump Is So Obsessed He Even Has Obama’s Name...   \n",
       "4   Pope Francis Just Called Out Donald Trump Dur...   \n",
       "\n",
       "                                                text subject  \\\n",
       "0  Donald Trump just couldn t wish all Americans ...    News   \n",
       "1  House Intelligence Committee Chairman Devin Nu...    News   \n",
       "2  On Friday, it was revealed that former Milwauk...    News   \n",
       "3  On Christmas day, Donald Trump announced that ...    News   \n",
       "4  Pope Francis used his annual Christmas Day mes...    News   \n",
       "\n",
       "                date  \n",
       "0  December 31, 2017  \n",
       "1  December 31, 2017  \n",
       "2  December 30, 2017  \n",
       "3  December 29, 2017  \n",
       "4  December 25, 2017  "
      ]
     },
     "execution_count": 5,
     "metadata": {},
     "output_type": "execute_result"
    }
   ],
   "source": [
    "fake_df.head()"
   ]
  },
  {
   "cell_type": "code",
   "execution_count": 6,
   "metadata": {},
   "outputs": [
    {
     "data": {
      "text/plain": [
       "<AxesSubplot:>"
      ]
     },
     "execution_count": 6,
     "metadata": {},
     "output_type": "execute_result"
    },
    {
     "data": {
      "image/png": "[encoded data removed]",
      "text/plain": [
       "<Figure size 432x288 with 1 Axes>"
      ]
     },
     "metadata": {
      "needs_background": "light"
     },
     "output_type": "display_data"
    }
   ],
   "source": [
    "true_df.subject.value_counts().plot.barh()"
   ]
  },
  {
   "cell_type": "code",
   "execution_count": 7,
   "metadata": {},
   "outputs": [
    {
     "data": {
      "text/plain": [
       "<AxesSubplot:>"
      ]
     },
     "execution_count": 7,
     "metadata": {},
     "output_type": "execute_result"
    },
    {
     "data": {
      "image/png": "[encoded data removed]",
      "text/plain": [
       "<Figure size 432x288 with 1 Axes>"
      ]
     },
     "metadata": {
      "needs_background": "light"
     },
     "output_type": "display_data"
    }
   ],
   "source": [
    "fake_df.subject.value_counts().plot.barh()"
   ]
  },
  {
   "cell_type": "code",
   "execution_count": 8,
   "metadata": {},
   "outputs": [
    {
     "name": "stdout",
     "output_type": "stream",
     "text": [
      "WASHINGTON (Reuters) - The head of a conservative Republican faction in the U.S. Congress, who voted this month for a huge expansion of the national debt to pay for tax cuts, called himself a “fiscal conservative” on Sunday and urged budget restraint in 2018. In keeping with a sharp pivot under way among Republicans, U.S. Representative Mark Meadows, speaking on CBS’ “Face the Nation,” drew a hard line on federal spending, which lawmakers are bracing to do battle over in January. When they return from the holidays on Wednesday, lawmakers will begin trying to pass a federal budget in a fight likely to be linked to other issues, such as immigration policy, even as the November congressional election campaigns approach in which Republicans will seek to keep control of Congress. President Donald Trump and his Republicans want a big budget increase in military spending, while Democrats also want proportional increases for non-defense “discretionary” spending on programs that support education, scientific research, infrastructure, public health and environmental protection. “The (Trump) administration has already been willing to say: ‘We’re going to increase non-defense discretionary spending ... by about 7 percent,’” Meadows, chairman of the small but influential House Freedom Caucus, said on the program. “Now, Democrats are saying that’s not enough, we need to give the government a pay raise of 10 to 11 percent. For a fiscal conservative, I don’t see where the rationale is. ... Eventually you run out of other people’s money,” he said. Meadows was among Republicans who voted in late December for their party’s debt-financed tax overhaul, which is expected to balloon the federal budget deficit and add about $1.5 trillion over 10 years to the $20 trillion national debt. “It’s interesting to hear Mark talk about fiscal responsibility,” Democratic U.S. Representative Joseph Crowley said on CBS. Crowley said the Republican tax bill would require the  United States to borrow $1.5 trillion, to be paid off by future generations, to finance tax cuts for corporations and the rich. “This is one of the least ... fiscally responsible bills we’ve ever seen passed in the history of the House of Representatives. I think we’re going to be paying for this for many, many years to come,” Crowley said. Republicans insist the tax package, the biggest U.S. tax overhaul in more than 30 years,  will boost the economy and job growth. House Speaker Paul Ryan, who also supported the tax bill, recently went further than Meadows, making clear in a radio interview that welfare or “entitlement reform,” as the party often calls it, would be a top Republican priority in 2018. In Republican parlance, “entitlement” programs mean food stamps, housing assistance, Medicare and Medicaid health insurance for the elderly, poor and disabled, as well as other programs created by Washington to assist the needy. Democrats seized on Ryan’s early December remarks, saying they showed Republicans would try to pay for their tax overhaul by seeking spending cuts for social programs. But the goals of House Republicans may have to take a back seat to the Senate, where the votes of some Democrats will be needed to approve a budget and prevent a government shutdown. Democrats will use their leverage in the Senate, which Republicans narrowly control, to defend both discretionary non-defense programs and social spending, while tackling the issue of the “Dreamers,” people brought illegally to the country as children. Trump in September put a March 2018 expiration date on the Deferred Action for Childhood Arrivals, or DACA, program, which protects the young immigrants from deportation and provides them with work permits. The president has said in recent Twitter messages he wants funding for his proposed Mexican border wall and other immigration law changes in exchange for agreeing to help the Dreamers. Representative Debbie Dingell told CBS she did not favor linking that issue to other policy objectives, such as wall funding. “We need to do DACA clean,” she said.  On Wednesday, Trump aides will meet with congressional leaders to discuss those issues. That will be followed by a weekend of strategy sessions for Trump and Republican leaders on Jan. 6 and 7, the White House said. Trump was also scheduled to meet on Sunday with Florida Republican Governor Rick Scott, who wants more emergency aid. The House has passed an $81 billion aid package after hurricanes in Florida, Texas and Puerto Rico, and wildfires in California. The package far exceeded the $44 billion requested by the Trump administration. The Senate has not yet voted on the aid. \n"
     ]
    }
   ],
   "source": [
    "print(true_df.text[0])"
   ]
  },
  {
   "cell_type": "code",
   "execution_count": 9,
   "metadata": {},
   "outputs": [
    {
     "data": {
      "text/plain": [
       "749"
      ]
     },
     "execution_count": 9,
     "metadata": {},
     "output_type": "execute_result"
    }
   ],
   "source": [
    "len(true_df.text[0].split())"
   ]
  },
  {
   "cell_type": "code",
   "execution_count": 10,
   "metadata": {},
   "outputs": [
    {
     "name": "stdout",
     "output_type": "stream",
     "text": [
      "Donald Trump just couldn t wish all Americans a Happy New Year and leave it at that. Instead, he had to give a shout out to his enemies, haters and  the very dishonest fake news media.  The former reality show star had just one job to do and he couldn t do it. As our Country rapidly grows stronger and smarter, I want to wish all of my friends, supporters, enemies, haters, and even the very dishonest Fake News Media, a Happy and Healthy New Year,  President Angry Pants tweeted.  2018 will be a great year for America! As our Country rapidly grows stronger and smarter, I want to wish all of my friends, supporters, enemies, haters, and even the very dishonest Fake News Media, a Happy and Healthy New Year. 2018 will be a great year for America!  Donald J. Trump (@realDonaldTrump) December 31, 2017Trump s tweet went down about as welll as you d expect.What kind of president sends a New Year s greeting like this despicable, petty, infantile gibberish? Only Trump! His lack of decency won t even allow him to rise above the gutter long enough to wish the American citizens a happy new year!  Bishop Talbert Swan (@TalbertSwan) December 31, 2017no one likes you  Calvin (@calvinstowell) December 31, 2017Your impeachment would make 2018 a great year for America, but I ll also accept regaining control of Congress.  Miranda Yaver (@mirandayaver) December 31, 2017Do you hear yourself talk? When you have to include that many people that hate you you have to wonder? Why do the they all hate me?  Alan Sandoval (@AlanSandoval13) December 31, 2017Who uses the word Haters in a New Years wish??  Marlene (@marlene399) December 31, 2017You can t just say happy new year?  Koren pollitt (@Korencarpenter) December 31, 2017Here s Trump s New Year s Eve tweet from 2016.Happy New Year to all, including to my many enemies and those who have fought me and lost so badly they just don t know what to do. Love!  Donald J. Trump (@realDonaldTrump) December 31, 2016This is nothing new for Trump. He s been doing this for years.Trump has directed messages to his  enemies  and  haters  for New Year s, Easter, Thanksgiving, and the anniversary of 9/11. pic.twitter.com/4FPAe2KypA  Daniel Dale (@ddale8) December 31, 2017Trump s holiday tweets are clearly not presidential.How long did he work at Hallmark before becoming President?  Steven Goodine (@SGoodine) December 31, 2017He s always been like this . . . the only difference is that in the last few years, his filter has been breaking down.  Roy Schulze (@thbthttt) December 31, 2017Who, apart from a teenager uses the term haters?  Wendy (@WendyWhistles) December 31, 2017he s a fucking 5 year old  Who Knows (@rainyday80) December 31, 2017So, to all the people who voted for this a hole thinking he would change once he got into power, you were wrong! 70-year-old men don t change and now he s a year older.Photo by Andrew Burton/Getty Images.\n"
     ]
    }
   ],
   "source": [
    "print(fake_df.text[0])"
   ]
  },
  {
   "cell_type": "code",
   "execution_count": 11,
   "metadata": {},
   "outputs": [
    {
     "data": {
      "text/plain": [
       "495"
      ]
     },
     "execution_count": 11,
     "metadata": {},
     "output_type": "execute_result"
    }
   ],
   "source": [
    "len(fake_df.text[0].split())"
   ]
  },
  {
   "cell_type": "code",
   "execution_count": 12,
   "metadata": {},
   "outputs": [
    {
     "name": "stdout",
     "output_type": "stream",
     "text": [
      "As U.S. budget fight looms, Republicans flip their fiscal script\n",
      " Donald Trump Sends Out Embarrassing New Year’s Eve Message; This is Disturbing\n"
     ]
    }
   ],
   "source": [
    "print(true_df.title[0])\n",
    "print(fake_df.title[0])"
   ]
  },
  {
   "cell_type": "markdown",
   "metadata": {},
   "source": [
    "### Initial takeaways:\n",
    "\n",
    "- True news articles have a preamble/external in the format: \"CITY (News Association)- \"\n",
    "- There are only two subject types in true articles, but six in fake articles\n",
    "\n",
    "### Initial data prep/wrangle plan:\n",
    "\n",
    "- Add a boolean truth value column corresponding to each df\n",
    "- Standardize columns for ease of access/manipulation (to names that are not reserved words)\n",
    "- Reorganize subject types\n",
    "- Prepare text:\n",
    "    * Make a version of true article that is stripped of externals like \"CITY (News Association)- \" for ML comparisons\n",
    "    * Clean fake articles\n",
    "- Join dfs on axis 0\n",
    "- Set index to date\n",
    "- Get word counts for articles (as engineered feature)\n",
    "    "
   ]
  },
  {
   "cell_type": "markdown",
   "metadata": {},
   "source": [
    "### Add a boolean truth value column corresponding to each df"
   ]
  },
  {
   "cell_type": "code",
   "execution_count": 13,
   "metadata": {},
   "outputs": [
    {
     "data": {
      "text/html": [
       "<div>\n",
       "<style scoped>\n",
       "    .dataframe tbody tr th:only-of-type {\n",
       "        vertical-align: middle;\n",
       "    }\n",
       "\n",
       "    .dataframe tbody tr th {\n",
       "        vertical-align: top;\n",
       "    }\n",
       "\n",
       "    .dataframe thead th {\n",
       "        text-align: right;\n",
       "    }\n",
       "</style>\n",
       "<table border=\"1\" class=\"dataframe\">\n",
       "  <thead>\n",
       "    <tr style=\"text-align: right;\">\n",
       "      <th></th>\n",
       "      <th>title</th>\n",
       "      <th>text</th>\n",
       "      <th>subject</th>\n",
       "      <th>date</th>\n",
       "      <th>truth_value</th>\n",
       "    </tr>\n",
       "  </thead>\n",
       "  <tbody>\n",
       "    <tr>\n",
       "      <th>0</th>\n",
       "      <td>Donald Trump Sends Out Embarrassing New Year’...</td>\n",
       "      <td>Donald Trump just couldn t wish all Americans ...</td>\n",
       "      <td>News</td>\n",
       "      <td>December 31, 2017</td>\n",
       "      <td>False</td>\n",
       "    </tr>\n",
       "    <tr>\n",
       "      <th>1</th>\n",
       "      <td>Drunk Bragging Trump Staffer Started Russian ...</td>\n",
       "      <td>House Intelligence Committee Chairman Devin Nu...</td>\n",
       "      <td>News</td>\n",
       "      <td>December 31, 2017</td>\n",
       "      <td>False</td>\n",
       "    </tr>\n",
       "    <tr>\n",
       "      <th>2</th>\n",
       "      <td>Sheriff David Clarke Becomes An Internet Joke...</td>\n",
       "      <td>On Friday, it was revealed that former Milwauk...</td>\n",
       "      <td>News</td>\n",
       "      <td>December 30, 2017</td>\n",
       "      <td>False</td>\n",
       "    </tr>\n",
       "  </tbody>\n",
       "</table>\n",
       "</div>"
      ],
      "text/plain": [
       "                                               title  \\\n",
       "0   Donald Trump Sends Out Embarrassing New Year’...   \n",
       "1   Drunk Bragging Trump Staffer Started Russian ...   \n",
       "2   Sheriff David Clarke Becomes An Internet Joke...   \n",
       "\n",
       "                                                text subject  \\\n",
       "0  Donald Trump just couldn t wish all Americans ...    News   \n",
       "1  House Intelligence Committee Chairman Devin Nu...    News   \n",
       "2  On Friday, it was revealed that former Milwauk...    News   \n",
       "\n",
       "                date  truth_value  \n",
       "0  December 31, 2017        False  \n",
       "1  December 31, 2017        False  \n",
       "2  December 30, 2017        False  "
      ]
     },
     "execution_count": 13,
     "metadata": {},
     "output_type": "execute_result"
    }
   ],
   "source": [
    "# Set truth values for each df\n",
    "true_df['truth_value'] = True\n",
    "fake_df['truth_value'] = False\n",
    "\n",
    "true_df.head(3)\n",
    "fake_df.head(3)"
   ]
  },
  {
   "cell_type": "markdown",
   "metadata": {},
   "source": [
    "### Standardize columns for ease of access/manipulation (to names that are not reserved words)"
   ]
  },
  {
   "cell_type": "code",
   "execution_count": 14,
   "metadata": {},
   "outputs": [
    {
     "name": "stdout",
     "output_type": "stream",
     "text": [
      "True DF columns:\n",
      "Index(['article_headline', 'article_body', 'subject', 'date', 'truth_value'], dtype='object')\n",
      "Fake DF columns:\n",
      "Index(['article_headline', 'article_body', 'subject', 'date', 'truth_value'], dtype='object')\n"
     ]
    }
   ],
   "source": [
    "# Standardize columns\n",
    "true_df.rename(columns= {'title':'article_headline', 'text': 'article_body'}, inplace=True)\n",
    "fake_df.rename(columns= {'title':'article_headline', 'text': 'article_body'}, inplace=True)\n",
    "# Print out column lists to check\n",
    "print(f'True DF columns:\\n{true_df.columns}')\n",
    "print(f'Fake DF columns:\\n{fake_df.columns}')"
   ]
  },
  {
   "cell_type": "markdown",
   "metadata": {},
   "source": [
    "### Reorganize subject types"
   ]
  },
  {
   "cell_type": "code",
   "execution_count": 15,
   "metadata": {},
   "outputs": [
    {
     "data": {
      "text/plain": [
       "politics    11272\n",
       "world       10145\n",
       "Name: subject, dtype: int64"
      ]
     },
     "execution_count": 15,
     "metadata": {},
     "output_type": "execute_result"
    }
   ],
   "source": [
    "# Organize subject types in true_df\n",
    "true_df.subject.replace(to_replace='politicsNews', value='politics', inplace=True)\n",
    "true_df.subject.replace(to_replace= 'worldnews', value='world', inplace=True)\n",
    "# Check values\n",
    "true_df.subject.value_counts()"
   ]
  },
  {
   "cell_type": "code",
   "execution_count": 16,
   "metadata": {},
   "outputs": [
    {
     "data": {
      "text/plain": [
       "Index(['News', 'politics', 'left-news', 'Government News', 'US_News',\n",
       "       'Middle-east'],\n",
       "      dtype='object')"
      ]
     },
     "execution_count": 16,
     "metadata": {},
     "output_type": "execute_result"
    }
   ],
   "source": [
    "fake_df.subject.value_counts().index"
   ]
  },
  {
   "cell_type": "code",
   "execution_count": 17,
   "metadata": {},
   "outputs": [
    {
     "data": {
      "text/plain": [
       "politics    21920\n",
       "world        1561\n",
       "Name: subject, dtype: int64"
      ]
     },
     "execution_count": 17,
     "metadata": {},
     "output_type": "execute_result"
    }
   ],
   "source": [
    "# Organize subject types in fake_df\n",
    "fake_df.subject.replace(\n",
    "    to_replace= ['News', 'politics', 'left-news', 'Government News', 'US_News','Middle-east'],\n",
    "    value= ['politics', 'politics', 'politics', 'politics', 'world', 'world'],\n",
    "    inplace= True)\n",
    "\n",
    "fake_df.subject.value_counts()"
   ]
  },
  {
   "cell_type": "markdown",
   "metadata": {},
   "source": [
    "### Prepare text:\n",
    "\n",
    "- Make a version of true article that is stripped of externals like \"CITY (News Association)- \" for ML comparisons\n",
    "- Clean articles"
   ]
  },
  {
   "cell_type": "code",
   "execution_count": 18,
   "metadata": {},
   "outputs": [],
   "source": [
    "regexp_true = r'\\w*\\S?\\w*\\s\\(\\w*\\)\\s\\S'\n",
    "#true_df.article_body.str.replace(r'\\w*\\S?\\w*\\s\\(\\w*\\)\\s\\S', '')\n",
    "import warnings\n",
    "warnings.filterwarnings('ignore')"
   ]
  },
  {
   "cell_type": "code",
   "execution_count": 19,
   "metadata": {},
   "outputs": [
    {
     "data": {
      "text/html": [
       "<div>\n",
       "<style scoped>\n",
       "    .dataframe tbody tr th:only-of-type {\n",
       "        vertical-align: middle;\n",
       "    }\n",
       "\n",
       "    .dataframe tbody tr th {\n",
       "        vertical-align: top;\n",
       "    }\n",
       "\n",
       "    .dataframe thead th {\n",
       "        text-align: right;\n",
       "    }\n",
       "</style>\n",
       "<table border=\"1\" class=\"dataframe\">\n",
       "  <thead>\n",
       "    <tr style=\"text-align: right;\">\n",
       "      <th></th>\n",
       "      <th>article_headline</th>\n",
       "      <th>article_body</th>\n",
       "      <th>subject</th>\n",
       "      <th>date</th>\n",
       "      <th>truth_value</th>\n",
       "      <th>article_clean</th>\n",
       "    </tr>\n",
       "  </thead>\n",
       "  <tbody>\n",
       "    <tr>\n",
       "      <th>0</th>\n",
       "      <td>As U.S. budget fight looms, Republicans flip t...</td>\n",
       "      <td>WASHINGTON (Reuters) - The head of a conservat...</td>\n",
       "      <td>politics</td>\n",
       "      <td>December 31, 2017</td>\n",
       "      <td>True</td>\n",
       "      <td>the head of a conservative republican faction...</td>\n",
       "    </tr>\n",
       "    <tr>\n",
       "      <th>1</th>\n",
       "      <td>U.S. military to accept transgender recruits o...</td>\n",
       "      <td>WASHINGTON (Reuters) - Transgender people will...</td>\n",
       "      <td>politics</td>\n",
       "      <td>December 29, 2017</td>\n",
       "      <td>True</td>\n",
       "      <td>transgender people will be allowed for the fi...</td>\n",
       "    </tr>\n",
       "    <tr>\n",
       "      <th>2</th>\n",
       "      <td>Senior U.S. Republican senator: 'Let Mr. Muell...</td>\n",
       "      <td>WASHINGTON (Reuters) - The special counsel inv...</td>\n",
       "      <td>politics</td>\n",
       "      <td>December 31, 2017</td>\n",
       "      <td>True</td>\n",
       "      <td>the special counsel investigation of links be...</td>\n",
       "    </tr>\n",
       "  </tbody>\n",
       "</table>\n",
       "</div>"
      ],
      "text/plain": [
       "                                    article_headline  \\\n",
       "0  As U.S. budget fight looms, Republicans flip t...   \n",
       "1  U.S. military to accept transgender recruits o...   \n",
       "2  Senior U.S. Republican senator: 'Let Mr. Muell...   \n",
       "\n",
       "                                        article_body   subject  \\\n",
       "0  WASHINGTON (Reuters) - The head of a conservat...  politics   \n",
       "1  WASHINGTON (Reuters) - Transgender people will...  politics   \n",
       "2  WASHINGTON (Reuters) - The special counsel inv...  politics   \n",
       "\n",
       "                 date  truth_value  \\\n",
       "0  December 31, 2017          True   \n",
       "1  December 29, 2017          True   \n",
       "2  December 31, 2017          True   \n",
       "\n",
       "                                       article_clean  \n",
       "0   the head of a conservative republican faction...  \n",
       "1   transgender people will be allowed for the fi...  \n",
       "2   the special counsel investigation of links be...  "
      ]
     },
     "execution_count": 19,
     "metadata": {},
     "output_type": "execute_result"
    }
   ],
   "source": [
    "import prep\n",
    "\n",
    "true_df['article_clean'] = true_df.article_body.str.replace(regexp_true, '')\n",
    "true_df.article_clean = true_df.article_clean.apply(prep.basic_clean)\n",
    "\n",
    "true_df.head(3)"
   ]
  },
  {
   "cell_type": "code",
   "execution_count": 20,
   "metadata": {},
   "outputs": [
    {
     "data": {
      "text/plain": [
       "10099        April 1, 2016 \n",
       "10019        April 1, 2016 \n",
       "10020        April 1, 2016 \n",
       "10092        April 1, 2016 \n",
       "10094        April 1, 2016 \n",
       "                ...        \n",
       "20543    September 9, 2017 \n",
       "20542    September 9, 2017 \n",
       "20540    September 9, 2017 \n",
       "20555    September 9, 2017 \n",
       "20549    September 9, 2017 \n",
       "Name: date, Length: 21417, dtype: object"
      ]
     },
     "execution_count": 20,
     "metadata": {},
     "output_type": "execute_result"
    }
   ],
   "source": [
    "true_df.date.sort_values()"
   ]
  },
  {
   "cell_type": "code",
   "execution_count": 21,
   "metadata": {},
   "outputs": [
    {
     "data": {
      "text/html": [
       "<div>\n",
       "<style scoped>\n",
       "    .dataframe tbody tr th:only-of-type {\n",
       "        vertical-align: middle;\n",
       "    }\n",
       "\n",
       "    .dataframe tbody tr th {\n",
       "        vertical-align: top;\n",
       "    }\n",
       "\n",
       "    .dataframe thead th {\n",
       "        text-align: right;\n",
       "    }\n",
       "</style>\n",
       "<table border=\"1\" class=\"dataframe\">\n",
       "  <thead>\n",
       "    <tr style=\"text-align: right;\">\n",
       "      <th></th>\n",
       "      <th>article_headline</th>\n",
       "      <th>article_body</th>\n",
       "      <th>subject</th>\n",
       "      <th>date</th>\n",
       "      <th>truth_value</th>\n",
       "      <th>article_clean</th>\n",
       "    </tr>\n",
       "  </thead>\n",
       "  <tbody>\n",
       "    <tr>\n",
       "      <th>0</th>\n",
       "      <td>Donald Trump Sends Out Embarrassing New Year’...</td>\n",
       "      <td>Donald Trump just couldn t wish all Americans ...</td>\n",
       "      <td>politics</td>\n",
       "      <td>December 31, 2017</td>\n",
       "      <td>False</td>\n",
       "      <td>donald trump just couldn t wish all americans ...</td>\n",
       "    </tr>\n",
       "    <tr>\n",
       "      <th>1</th>\n",
       "      <td>Drunk Bragging Trump Staffer Started Russian ...</td>\n",
       "      <td>House Intelligence Committee Chairman Devin Nu...</td>\n",
       "      <td>politics</td>\n",
       "      <td>December 31, 2017</td>\n",
       "      <td>False</td>\n",
       "      <td>house intelligence committee chairman devin nu...</td>\n",
       "    </tr>\n",
       "    <tr>\n",
       "      <th>2</th>\n",
       "      <td>Sheriff David Clarke Becomes An Internet Joke...</td>\n",
       "      <td>On Friday, it was revealed that former Milwauk...</td>\n",
       "      <td>politics</td>\n",
       "      <td>December 30, 2017</td>\n",
       "      <td>False</td>\n",
       "      <td>on friday it was revealed that former milwauke...</td>\n",
       "    </tr>\n",
       "  </tbody>\n",
       "</table>\n",
       "</div>"
      ],
      "text/plain": [
       "                                    article_headline  \\\n",
       "0   Donald Trump Sends Out Embarrassing New Year’...   \n",
       "1   Drunk Bragging Trump Staffer Started Russian ...   \n",
       "2   Sheriff David Clarke Becomes An Internet Joke...   \n",
       "\n",
       "                                        article_body   subject  \\\n",
       "0  Donald Trump just couldn t wish all Americans ...  politics   \n",
       "1  House Intelligence Committee Chairman Devin Nu...  politics   \n",
       "2  On Friday, it was revealed that former Milwauk...  politics   \n",
       "\n",
       "                date  truth_value  \\\n",
       "0  December 31, 2017        False   \n",
       "1  December 31, 2017        False   \n",
       "2  December 30, 2017        False   \n",
       "\n",
       "                                       article_clean  \n",
       "0  donald trump just couldn t wish all americans ...  \n",
       "1  house intelligence committee chairman devin nu...  \n",
       "2  on friday it was revealed that former milwauke...  "
      ]
     },
     "execution_count": 21,
     "metadata": {},
     "output_type": "execute_result"
    }
   ],
   "source": [
    "fake_df['article_clean'] = fake_df.article_body.apply(prep.basic_clean)\n",
    "\n",
    "fake_df.head(3)"
   ]
  },
  {
   "cell_type": "code",
   "execution_count": 22,
   "metadata": {},
   "outputs": [
    {
     "data": {
      "text/plain": [
       "9084                                             14-Feb-18\n",
       "9075                                             15-Feb-18\n",
       "9076                                             15-Feb-18\n",
       "9077                                             15-Feb-18\n",
       "9078                                             15-Feb-18\n",
       "                               ...                        \n",
       "17433    https://fedup.wpengine.com/wp-content/uploads/...\n",
       "15840    https://fedup.wpengine.com/wp-content/uploads/...\n",
       "15839    https://fedup.wpengine.com/wp-content/uploads/...\n",
       "17432    https://fedup.wpengine.com/wp-content/uploads/...\n",
       "21869    https://fedup.wpengine.com/wp-content/uploads/...\n",
       "Name: date, Length: 23481, dtype: object"
      ]
     },
     "execution_count": 22,
     "metadata": {},
     "output_type": "execute_result"
    }
   ],
   "source": [
    "fake_df.date.sort_values()"
   ]
  },
  {
   "cell_type": "code",
   "execution_count": 23,
   "metadata": {},
   "outputs": [
    {
     "data": {
      "text/plain": [
       "4705    September 9, 2016\n",
       "404     September 9, 2017\n",
       "405     September 9, 2017\n",
       "406     September 9, 2017\n",
       "407     September 9, 2017\n",
       "Name: date, dtype: object"
      ]
     },
     "execution_count": 23,
     "metadata": {},
     "output_type": "execute_result"
    }
   ],
   "source": [
    "fake_rows_todrop = fake_df[fake_df.date.str.contains('https')].index\n",
    "\n",
    "fake_df = fake_df.drop(labels= fake_rows_todrop)\n",
    "fake_df.date.sort_values().tail()"
   ]
  },
  {
   "cell_type": "code",
   "execution_count": 24,
   "metadata": {},
   "outputs": [
    {
     "name": "stdout",
     "output_type": "stream",
     "text": [
      "Index(['article_headline', 'article_body', 'subject', 'date', 'truth_value',\n",
      "       'article_clean'],\n",
      "      dtype='object')\n",
      "Index(['article_headline', 'article_body', 'subject', 'date', 'truth_value',\n",
      "       'article_clean'],\n",
      "      dtype='object')\n"
     ]
    }
   ],
   "source": [
    "print(true_df.columns)\n",
    "print(fake_df.columns)"
   ]
  },
  {
   "cell_type": "code",
   "execution_count": 25,
   "metadata": {},
   "outputs": [
    {
     "name": "stdout",
     "output_type": "stream",
     "text": [
      "<class 'pandas.core.frame.DataFrame'>\n",
      "Int64Index: 44889 entries, 0 to 23480\n",
      "Data columns (total 6 columns):\n",
      " #   Column            Non-Null Count  Dtype \n",
      "---  ------            --------------  ----- \n",
      " 0   article_headline  44889 non-null  object\n",
      " 1   article_body      44889 non-null  object\n",
      " 2   subject           44889 non-null  object\n",
      " 3   date              44889 non-null  object\n",
      " 4   truth_value       44889 non-null  bool  \n",
      " 5   article_clean     44889 non-null  object\n",
      "dtypes: bool(1), object(5)\n",
      "memory usage: 2.1+ MB\n"
     ]
    },
    {
     "data": {
      "text/html": [
       "<div>\n",
       "<style scoped>\n",
       "    .dataframe tbody tr th:only-of-type {\n",
       "        vertical-align: middle;\n",
       "    }\n",
       "\n",
       "    .dataframe tbody tr th {\n",
       "        vertical-align: top;\n",
       "    }\n",
       "\n",
       "    .dataframe thead th {\n",
       "        text-align: right;\n",
       "    }\n",
       "</style>\n",
       "<table border=\"1\" class=\"dataframe\">\n",
       "  <thead>\n",
       "    <tr style=\"text-align: right;\">\n",
       "      <th></th>\n",
       "      <th>article_headline</th>\n",
       "      <th>article_body</th>\n",
       "      <th>subject</th>\n",
       "      <th>date</th>\n",
       "      <th>truth_value</th>\n",
       "      <th>article_clean</th>\n",
       "    </tr>\n",
       "  </thead>\n",
       "  <tbody>\n",
       "    <tr>\n",
       "      <th>0</th>\n",
       "      <td>As U.S. budget fight looms, Republicans flip t...</td>\n",
       "      <td>WASHINGTON (Reuters) - The head of a conservat...</td>\n",
       "      <td>politics</td>\n",
       "      <td>December 31, 2017</td>\n",
       "      <td>True</td>\n",
       "      <td>the head of a conservative republican faction...</td>\n",
       "    </tr>\n",
       "    <tr>\n",
       "      <th>1</th>\n",
       "      <td>U.S. military to accept transgender recruits o...</td>\n",
       "      <td>WASHINGTON (Reuters) - Transgender people will...</td>\n",
       "      <td>politics</td>\n",
       "      <td>December 29, 2017</td>\n",
       "      <td>True</td>\n",
       "      <td>transgender people will be allowed for the fi...</td>\n",
       "    </tr>\n",
       "    <tr>\n",
       "      <th>2</th>\n",
       "      <td>Senior U.S. Republican senator: 'Let Mr. Muell...</td>\n",
       "      <td>WASHINGTON (Reuters) - The special counsel inv...</td>\n",
       "      <td>politics</td>\n",
       "      <td>December 31, 2017</td>\n",
       "      <td>True</td>\n",
       "      <td>the special counsel investigation of links be...</td>\n",
       "    </tr>\n",
       "    <tr>\n",
       "      <th>3</th>\n",
       "      <td>FBI Russia probe helped by Australian diplomat...</td>\n",
       "      <td>WASHINGTON (Reuters) - Trump campaign adviser ...</td>\n",
       "      <td>politics</td>\n",
       "      <td>December 30, 2017</td>\n",
       "      <td>True</td>\n",
       "      <td>trump campaign adviser george papadopoulos to...</td>\n",
       "    </tr>\n",
       "    <tr>\n",
       "      <th>4</th>\n",
       "      <td>Trump wants Postal Service to charge 'much mor...</td>\n",
       "      <td>SEATTLE/WASHINGTON (Reuters) - President Donal...</td>\n",
       "      <td>politics</td>\n",
       "      <td>December 29, 2017</td>\n",
       "      <td>True</td>\n",
       "      <td>president donald trump called on the us posta...</td>\n",
       "    </tr>\n",
       "  </tbody>\n",
       "</table>\n",
       "</div>"
      ],
      "text/plain": [
       "                                    article_headline  \\\n",
       "0  As U.S. budget fight looms, Republicans flip t...   \n",
       "1  U.S. military to accept transgender recruits o...   \n",
       "2  Senior U.S. Republican senator: 'Let Mr. Muell...   \n",
       "3  FBI Russia probe helped by Australian diplomat...   \n",
       "4  Trump wants Postal Service to charge 'much mor...   \n",
       "\n",
       "                                        article_body   subject  \\\n",
       "0  WASHINGTON (Reuters) - The head of a conservat...  politics   \n",
       "1  WASHINGTON (Reuters) - Transgender people will...  politics   \n",
       "2  WASHINGTON (Reuters) - The special counsel inv...  politics   \n",
       "3  WASHINGTON (Reuters) - Trump campaign adviser ...  politics   \n",
       "4  SEATTLE/WASHINGTON (Reuters) - President Donal...  politics   \n",
       "\n",
       "                 date  truth_value  \\\n",
       "0  December 31, 2017          True   \n",
       "1  December 29, 2017          True   \n",
       "2  December 31, 2017          True   \n",
       "3  December 30, 2017          True   \n",
       "4  December 29, 2017          True   \n",
       "\n",
       "                                       article_clean  \n",
       "0   the head of a conservative republican faction...  \n",
       "1   transgender people will be allowed for the fi...  \n",
       "2   the special counsel investigation of links be...  \n",
       "3   trump campaign adviser george papadopoulos to...  \n",
       "4   president donald trump called on the us posta...  "
      ]
     },
     "execution_count": 25,
     "metadata": {},
     "output_type": "execute_result"
    }
   ],
   "source": [
    "df = pd.concat([true_df, fake_df], axis=0)\n",
    "\n",
    "df.info()\n",
    "df.head()"
   ]
  },
  {
   "cell_type": "code",
   "execution_count": 26,
   "metadata": {},
   "outputs": [
    {
     "data": {
      "text/html": [
       "<div>\n",
       "<style scoped>\n",
       "    .dataframe tbody tr th:only-of-type {\n",
       "        vertical-align: middle;\n",
       "    }\n",
       "\n",
       "    .dataframe tbody tr th {\n",
       "        vertical-align: top;\n",
       "    }\n",
       "\n",
       "    .dataframe thead th {\n",
       "        text-align: right;\n",
       "    }\n",
       "</style>\n",
       "<table border=\"1\" class=\"dataframe\">\n",
       "  <thead>\n",
       "    <tr style=\"text-align: right;\">\n",
       "      <th></th>\n",
       "      <th>article_headline</th>\n",
       "      <th>article_body</th>\n",
       "      <th>subject</th>\n",
       "      <th>date</th>\n",
       "      <th>truth_value</th>\n",
       "      <th>article_clean</th>\n",
       "    </tr>\n",
       "  </thead>\n",
       "  <tbody>\n",
       "    <tr>\n",
       "      <th>18933</th>\n",
       "      <td>Homepage</td>\n",
       "      <td>[vc_row][vc_column width= 1/1 ][td_block_trend...</td>\n",
       "      <td>politics</td>\n",
       "      <td>MSNBC HOST Rudely Assumes Steel Worker Would N...</td>\n",
       "      <td>False</td>\n",
       "      <td>vcrowvccolumn width  tdblocktrendingnow limit ...</td>\n",
       "    </tr>\n",
       "  </tbody>\n",
       "</table>\n",
       "</div>"
      ],
      "text/plain": [
       "      article_headline                                       article_body  \\\n",
       "18933         Homepage  [vc_row][vc_column width= 1/1 ][td_block_trend...   \n",
       "\n",
       "        subject                                               date  \\\n",
       "18933  politics  MSNBC HOST Rudely Assumes Steel Worker Would N...   \n",
       "\n",
       "       truth_value                                      article_clean  \n",
       "18933        False  vcrowvccolumn width  tdblocktrendingnow limit ...  "
      ]
     },
     "execution_count": 26,
     "metadata": {},
     "output_type": "execute_result"
    }
   ],
   "source": [
    "df[df.date.str.contains('MSNBC')]"
   ]
  },
  {
   "cell_type": "code",
   "execution_count": 27,
   "metadata": {},
   "outputs": [
    {
     "name": "stdout",
     "output_type": "stream",
     "text": [
      "<class 'pandas.core.frame.DataFrame'>\n",
      "Int64Index: 44887 entries, 0 to 23480\n",
      "Data columns (total 6 columns):\n",
      " #   Column            Non-Null Count  Dtype \n",
      "---  ------            --------------  ----- \n",
      " 0   article_headline  44887 non-null  object\n",
      " 1   article_body      44887 non-null  object\n",
      " 2   subject           44887 non-null  object\n",
      " 3   date              44887 non-null  object\n",
      " 4   truth_value       44887 non-null  bool  \n",
      " 5   article_clean     44887 non-null  object\n",
      "dtypes: bool(1), object(5)\n",
      "memory usage: 2.1+ MB\n"
     ]
    }
   ],
   "source": [
    "df = df.drop(labels= [18933])\n",
    "df.info()"
   ]
  },
  {
   "cell_type": "code",
   "execution_count": 28,
   "metadata": {},
   "outputs": [
    {
     "name": "stdout",
     "output_type": "stream",
     "text": [
      "<class 'pandas.core.frame.DataFrame'>\n",
      "DatetimeIndex: 44887 entries, 2017-12-31 to 2016-01-12\n",
      "Data columns (total 6 columns):\n",
      " #   Column            Non-Null Count  Dtype         \n",
      "---  ------            --------------  -----         \n",
      " 0   article_headline  44887 non-null  object        \n",
      " 1   article_body      44887 non-null  object        \n",
      " 2   subject           44887 non-null  object        \n",
      " 3   date              44887 non-null  datetime64[ns]\n",
      " 4   truth_value       44887 non-null  bool          \n",
      " 5   article_clean     44887 non-null  object        \n",
      "dtypes: bool(1), datetime64[ns](1), object(4)\n",
      "memory usage: 2.1+ MB\n"
     ]
    },
    {
     "data": {
      "text/html": [
       "<div>\n",
       "<style scoped>\n",
       "    .dataframe tbody tr th:only-of-type {\n",
       "        vertical-align: middle;\n",
       "    }\n",
       "\n",
       "    .dataframe tbody tr th {\n",
       "        vertical-align: top;\n",
       "    }\n",
       "\n",
       "    .dataframe thead th {\n",
       "        text-align: right;\n",
       "    }\n",
       "</style>\n",
       "<table border=\"1\" class=\"dataframe\">\n",
       "  <thead>\n",
       "    <tr style=\"text-align: right;\">\n",
       "      <th></th>\n",
       "      <th>article_headline</th>\n",
       "      <th>article_body</th>\n",
       "      <th>subject</th>\n",
       "      <th>date</th>\n",
       "      <th>truth_value</th>\n",
       "      <th>article_clean</th>\n",
       "    </tr>\n",
       "    <tr>\n",
       "      <th>date</th>\n",
       "      <th></th>\n",
       "      <th></th>\n",
       "      <th></th>\n",
       "      <th></th>\n",
       "      <th></th>\n",
       "      <th></th>\n",
       "    </tr>\n",
       "  </thead>\n",
       "  <tbody>\n",
       "    <tr>\n",
       "      <th>2017-12-31</th>\n",
       "      <td>As U.S. budget fight looms, Republicans flip t...</td>\n",
       "      <td>WASHINGTON (Reuters) - The head of a conservat...</td>\n",
       "      <td>politics</td>\n",
       "      <td>2017-12-31</td>\n",
       "      <td>True</td>\n",
       "      <td>the head of a conservative republican faction...</td>\n",
       "    </tr>\n",
       "    <tr>\n",
       "      <th>2017-12-29</th>\n",
       "      <td>U.S. military to accept transgender recruits o...</td>\n",
       "      <td>WASHINGTON (Reuters) - Transgender people will...</td>\n",
       "      <td>politics</td>\n",
       "      <td>2017-12-29</td>\n",
       "      <td>True</td>\n",
       "      <td>transgender people will be allowed for the fi...</td>\n",
       "    </tr>\n",
       "    <tr>\n",
       "      <th>2017-12-31</th>\n",
       "      <td>Senior U.S. Republican senator: 'Let Mr. Muell...</td>\n",
       "      <td>WASHINGTON (Reuters) - The special counsel inv...</td>\n",
       "      <td>politics</td>\n",
       "      <td>2017-12-31</td>\n",
       "      <td>True</td>\n",
       "      <td>the special counsel investigation of links be...</td>\n",
       "    </tr>\n",
       "    <tr>\n",
       "      <th>2017-12-30</th>\n",
       "      <td>FBI Russia probe helped by Australian diplomat...</td>\n",
       "      <td>WASHINGTON (Reuters) - Trump campaign adviser ...</td>\n",
       "      <td>politics</td>\n",
       "      <td>2017-12-30</td>\n",
       "      <td>True</td>\n",
       "      <td>trump campaign adviser george papadopoulos to...</td>\n",
       "    </tr>\n",
       "    <tr>\n",
       "      <th>2017-12-29</th>\n",
       "      <td>Trump wants Postal Service to charge 'much mor...</td>\n",
       "      <td>SEATTLE/WASHINGTON (Reuters) - President Donal...</td>\n",
       "      <td>politics</td>\n",
       "      <td>2017-12-29</td>\n",
       "      <td>True</td>\n",
       "      <td>president donald trump called on the us posta...</td>\n",
       "    </tr>\n",
       "  </tbody>\n",
       "</table>\n",
       "</div>"
      ],
      "text/plain": [
       "                                             article_headline  \\\n",
       "date                                                            \n",
       "2017-12-31  As U.S. budget fight looms, Republicans flip t...   \n",
       "2017-12-29  U.S. military to accept transgender recruits o...   \n",
       "2017-12-31  Senior U.S. Republican senator: 'Let Mr. Muell...   \n",
       "2017-12-30  FBI Russia probe helped by Australian diplomat...   \n",
       "2017-12-29  Trump wants Postal Service to charge 'much mor...   \n",
       "\n",
       "                                                 article_body   subject  \\\n",
       "date                                                                      \n",
       "2017-12-31  WASHINGTON (Reuters) - The head of a conservat...  politics   \n",
       "2017-12-29  WASHINGTON (Reuters) - Transgender people will...  politics   \n",
       "2017-12-31  WASHINGTON (Reuters) - The special counsel inv...  politics   \n",
       "2017-12-30  WASHINGTON (Reuters) - Trump campaign adviser ...  politics   \n",
       "2017-12-29  SEATTLE/WASHINGTON (Reuters) - President Donal...  politics   \n",
       "\n",
       "                 date  truth_value  \\\n",
       "date                                 \n",
       "2017-12-31 2017-12-31         True   \n",
       "2017-12-29 2017-12-29         True   \n",
       "2017-12-31 2017-12-31         True   \n",
       "2017-12-30 2017-12-30         True   \n",
       "2017-12-29 2017-12-29         True   \n",
       "\n",
       "                                                article_clean  \n",
       "date                                                           \n",
       "2017-12-31   the head of a conservative republican faction...  \n",
       "2017-12-29   transgender people will be allowed for the fi...  \n",
       "2017-12-31   the special counsel investigation of links be...  \n",
       "2017-12-30   trump campaign adviser george papadopoulos to...  \n",
       "2017-12-29   president donald trump called on the us posta...  "
      ]
     },
     "execution_count": 28,
     "metadata": {},
     "output_type": "execute_result"
    }
   ],
   "source": [
    "df.date = pd.to_datetime(df.date)\n",
    "df = df.set_index(df.date)\n",
    "\n",
    "df.info()\n",
    "df.head()"
   ]
  },
  {
   "cell_type": "code",
   "execution_count": 29,
   "metadata": {},
   "outputs": [
    {
     "name": "stdout",
     "output_type": "stream",
     "text": [
      "<class 'pandas.core.frame.DataFrame'>\n",
      "DatetimeIndex: 44887 entries, 2015-03-31 to 2018-02-19\n",
      "Data columns (total 6 columns):\n",
      " #   Column            Non-Null Count  Dtype         \n",
      "---  ------            --------------  -----         \n",
      " 0   article_headline  44887 non-null  object        \n",
      " 1   article_body      44887 non-null  object        \n",
      " 2   subject           44887 non-null  object        \n",
      " 3   date              44887 non-null  datetime64[ns]\n",
      " 4   truth_value       44887 non-null  bool          \n",
      " 5   article_clean     44887 non-null  object        \n",
      "dtypes: bool(1), datetime64[ns](1), object(4)\n",
      "memory usage: 2.1+ MB\n"
     ]
    },
    {
     "data": {
      "text/html": [
       "<div>\n",
       "<style scoped>\n",
       "    .dataframe tbody tr th:only-of-type {\n",
       "        vertical-align: middle;\n",
       "    }\n",
       "\n",
       "    .dataframe tbody tr th {\n",
       "        vertical-align: top;\n",
       "    }\n",
       "\n",
       "    .dataframe thead th {\n",
       "        text-align: right;\n",
       "    }\n",
       "</style>\n",
       "<table border=\"1\" class=\"dataframe\">\n",
       "  <thead>\n",
       "    <tr style=\"text-align: right;\">\n",
       "      <th></th>\n",
       "      <th>article_headline</th>\n",
       "      <th>article_body</th>\n",
       "      <th>subject</th>\n",
       "      <th>date</th>\n",
       "      <th>truth_value</th>\n",
       "      <th>article_clean</th>\n",
       "    </tr>\n",
       "    <tr>\n",
       "      <th>date</th>\n",
       "      <th></th>\n",
       "      <th></th>\n",
       "      <th></th>\n",
       "      <th></th>\n",
       "      <th></th>\n",
       "      <th></th>\n",
       "    </tr>\n",
       "  </thead>\n",
       "  <tbody>\n",
       "    <tr>\n",
       "      <th>2018-02-18</th>\n",
       "      <td>JUST IN: BADASS GENERAL JOHN KELLY Shoved Chin...</td>\n",
       "      <td>Just one more reminder of why President Trump ...</td>\n",
       "      <td>politics</td>\n",
       "      <td>2018-02-18</td>\n",
       "      <td>False</td>\n",
       "      <td>just one more reminder of why president trump ...</td>\n",
       "    </tr>\n",
       "    <tr>\n",
       "      <th>2018-02-18</th>\n",
       "      <td>IT BEGINS…RINO MEGA-DONOR Threatens Jeb Bush: ...</td>\n",
       "      <td>A longtime Republican Party donor based in Flo...</td>\n",
       "      <td>politics</td>\n",
       "      <td>2018-02-18</td>\n",
       "      <td>False</td>\n",
       "      <td>a longtime republican party donor based in flo...</td>\n",
       "    </tr>\n",
       "    <tr>\n",
       "      <th>2018-02-19</th>\n",
       "      <td>WATCH: SNOWFLAKES ASKED Communist Party Platfo...</td>\n",
       "      <td>Ami Horowitz is fantastic! Check out this man ...</td>\n",
       "      <td>politics</td>\n",
       "      <td>2018-02-19</td>\n",
       "      <td>False</td>\n",
       "      <td>ami horowitz is fantastic check out this man o...</td>\n",
       "    </tr>\n",
       "    <tr>\n",
       "      <th>2018-02-19</th>\n",
       "      <td>MSNBC ANCHOR Flabbergasted at What Texas Teach...</td>\n",
       "      <td>If we protect every other government building ...</td>\n",
       "      <td>politics</td>\n",
       "      <td>2018-02-19</td>\n",
       "      <td>False</td>\n",
       "      <td>if we protect every other government building ...</td>\n",
       "    </tr>\n",
       "    <tr>\n",
       "      <th>2018-02-19</th>\n",
       "      <td>Democrat Senator Warns Mueller Not To Release ...</td>\n",
       "      <td>According to The Hill, Democrat Senator Bob Ca...</td>\n",
       "      <td>politics</td>\n",
       "      <td>2018-02-19</td>\n",
       "      <td>False</td>\n",
       "      <td>according to the hill democrat senator bob cas...</td>\n",
       "    </tr>\n",
       "  </tbody>\n",
       "</table>\n",
       "</div>"
      ],
      "text/plain": [
       "                                             article_headline  \\\n",
       "date                                                            \n",
       "2018-02-18  JUST IN: BADASS GENERAL JOHN KELLY Shoved Chin...   \n",
       "2018-02-18  IT BEGINS…RINO MEGA-DONOR Threatens Jeb Bush: ...   \n",
       "2018-02-19  WATCH: SNOWFLAKES ASKED Communist Party Platfo...   \n",
       "2018-02-19  MSNBC ANCHOR Flabbergasted at What Texas Teach...   \n",
       "2018-02-19  Democrat Senator Warns Mueller Not To Release ...   \n",
       "\n",
       "                                                 article_body   subject  \\\n",
       "date                                                                      \n",
       "2018-02-18  Just one more reminder of why President Trump ...  politics   \n",
       "2018-02-18  A longtime Republican Party donor based in Flo...  politics   \n",
       "2018-02-19  Ami Horowitz is fantastic! Check out this man ...  politics   \n",
       "2018-02-19  If we protect every other government building ...  politics   \n",
       "2018-02-19  According to The Hill, Democrat Senator Bob Ca...  politics   \n",
       "\n",
       "                 date  truth_value  \\\n",
       "date                                 \n",
       "2018-02-18 2018-02-18        False   \n",
       "2018-02-18 2018-02-18        False   \n",
       "2018-02-19 2018-02-19        False   \n",
       "2018-02-19 2018-02-19        False   \n",
       "2018-02-19 2018-02-19        False   \n",
       "\n",
       "                                                article_clean  \n",
       "date                                                           \n",
       "2018-02-18  just one more reminder of why president trump ...  \n",
       "2018-02-18  a longtime republican party donor based in flo...  \n",
       "2018-02-19  ami horowitz is fantastic check out this man o...  \n",
       "2018-02-19  if we protect every other government building ...  \n",
       "2018-02-19  according to the hill democrat senator bob cas...  "
      ]
     },
     "execution_count": 29,
     "metadata": {},
     "output_type": "execute_result"
    }
   ],
   "source": [
    "df = df.sort_index(ascending=True)\n",
    "\n",
    "df.info()\n",
    "df.tail()"
   ]
  },
  {
   "cell_type": "code",
   "execution_count": 30,
   "metadata": {},
   "outputs": [
    {
     "data": {
      "text/html": [
       "<div>\n",
       "<style scoped>\n",
       "    .dataframe tbody tr th:only-of-type {\n",
       "        vertical-align: middle;\n",
       "    }\n",
       "\n",
       "    .dataframe tbody tr th {\n",
       "        vertical-align: top;\n",
       "    }\n",
       "\n",
       "    .dataframe thead th {\n",
       "        text-align: right;\n",
       "    }\n",
       "</style>\n",
       "<table border=\"1\" class=\"dataframe\">\n",
       "  <thead>\n",
       "    <tr style=\"text-align: right;\">\n",
       "      <th></th>\n",
       "      <th>article_headline</th>\n",
       "      <th>article_body</th>\n",
       "      <th>subject</th>\n",
       "      <th>truth_value</th>\n",
       "      <th>article_clean</th>\n",
       "    </tr>\n",
       "    <tr>\n",
       "      <th>date</th>\n",
       "      <th></th>\n",
       "      <th></th>\n",
       "      <th></th>\n",
       "      <th></th>\n",
       "      <th></th>\n",
       "    </tr>\n",
       "  </thead>\n",
       "  <tbody>\n",
       "    <tr>\n",
       "      <th>2015-03-31</th>\n",
       "      <td>WATCH DIRTY HARRY REID ON HIS LIE ABOUT ROMNEY...</td>\n",
       "      <td>In case you missed it Sen. Harry Reid (R-NV), ...</td>\n",
       "      <td>politics</td>\n",
       "      <td>False</td>\n",
       "      <td>in case you missed it sen harry reid rnv who a...</td>\n",
       "    </tr>\n",
       "    <tr>\n",
       "      <th>2015-03-31</th>\n",
       "      <td>BENGHAZI PANEL CALLS HILLARY TO TESTIFY UNDER ...</td>\n",
       "      <td>Does anyone really think Hillary Clinton will ...</td>\n",
       "      <td>politics</td>\n",
       "      <td>False</td>\n",
       "      <td>does anyone really think hillary clinton will ...</td>\n",
       "    </tr>\n",
       "    <tr>\n",
       "      <th>2015-03-31</th>\n",
       "      <td>HILLARY RODHAM NIXON: A CANDIDATE WITH MORE BA...</td>\n",
       "      <td>The irony here isn t lost on us. Hillary is be...</td>\n",
       "      <td>politics</td>\n",
       "      <td>False</td>\n",
       "      <td>the irony here isn t lost on us hillary is bei...</td>\n",
       "    </tr>\n",
       "    <tr>\n",
       "      <th>2015-03-31</th>\n",
       "      <td>HILLARY RODHAM NIXON: A CANDIDATE WITH MORE BA...</td>\n",
       "      <td>The irony here isn t lost on us. Hillary is be...</td>\n",
       "      <td>politics</td>\n",
       "      <td>False</td>\n",
       "      <td>the irony here isn t lost on us hillary is bei...</td>\n",
       "    </tr>\n",
       "    <tr>\n",
       "      <th>2015-03-31</th>\n",
       "      <td>WATCH DIRTY HARRY REID ON HIS LIE ABOUT ROMNEY...</td>\n",
       "      <td>In case you missed it Sen. Harry Reid (R-NV), ...</td>\n",
       "      <td>politics</td>\n",
       "      <td>False</td>\n",
       "      <td>in case you missed it sen harry reid rnv who a...</td>\n",
       "    </tr>\n",
       "    <tr>\n",
       "      <th>...</th>\n",
       "      <td>...</td>\n",
       "      <td>...</td>\n",
       "      <td>...</td>\n",
       "      <td>...</td>\n",
       "      <td>...</td>\n",
       "    </tr>\n",
       "    <tr>\n",
       "      <th>2018-02-18</th>\n",
       "      <td>JUST IN: BADASS GENERAL JOHN KELLY Shoved Chin...</td>\n",
       "      <td>Just one more reminder of why President Trump ...</td>\n",
       "      <td>politics</td>\n",
       "      <td>False</td>\n",
       "      <td>just one more reminder of why president trump ...</td>\n",
       "    </tr>\n",
       "    <tr>\n",
       "      <th>2018-02-18</th>\n",
       "      <td>IT BEGINS…RINO MEGA-DONOR Threatens Jeb Bush: ...</td>\n",
       "      <td>A longtime Republican Party donor based in Flo...</td>\n",
       "      <td>politics</td>\n",
       "      <td>False</td>\n",
       "      <td>a longtime republican party donor based in flo...</td>\n",
       "    </tr>\n",
       "    <tr>\n",
       "      <th>2018-02-19</th>\n",
       "      <td>WATCH: SNOWFLAKES ASKED Communist Party Platfo...</td>\n",
       "      <td>Ami Horowitz is fantastic! Check out this man ...</td>\n",
       "      <td>politics</td>\n",
       "      <td>False</td>\n",
       "      <td>ami horowitz is fantastic check out this man o...</td>\n",
       "    </tr>\n",
       "    <tr>\n",
       "      <th>2018-02-19</th>\n",
       "      <td>MSNBC ANCHOR Flabbergasted at What Texas Teach...</td>\n",
       "      <td>If we protect every other government building ...</td>\n",
       "      <td>politics</td>\n",
       "      <td>False</td>\n",
       "      <td>if we protect every other government building ...</td>\n",
       "    </tr>\n",
       "    <tr>\n",
       "      <th>2018-02-19</th>\n",
       "      <td>Democrat Senator Warns Mueller Not To Release ...</td>\n",
       "      <td>According to The Hill, Democrat Senator Bob Ca...</td>\n",
       "      <td>politics</td>\n",
       "      <td>False</td>\n",
       "      <td>according to the hill democrat senator bob cas...</td>\n",
       "    </tr>\n",
       "  </tbody>\n",
       "</table>\n",
       "<p>44887 rows × 5 columns</p>\n",
       "</div>"
      ],
      "text/plain": [
       "                                             article_headline  \\\n",
       "date                                                            \n",
       "2015-03-31  WATCH DIRTY HARRY REID ON HIS LIE ABOUT ROMNEY...   \n",
       "2015-03-31  BENGHAZI PANEL CALLS HILLARY TO TESTIFY UNDER ...   \n",
       "2015-03-31  HILLARY RODHAM NIXON: A CANDIDATE WITH MORE BA...   \n",
       "2015-03-31  HILLARY RODHAM NIXON: A CANDIDATE WITH MORE BA...   \n",
       "2015-03-31  WATCH DIRTY HARRY REID ON HIS LIE ABOUT ROMNEY...   \n",
       "...                                                       ...   \n",
       "2018-02-18  JUST IN: BADASS GENERAL JOHN KELLY Shoved Chin...   \n",
       "2018-02-18  IT BEGINS…RINO MEGA-DONOR Threatens Jeb Bush: ...   \n",
       "2018-02-19  WATCH: SNOWFLAKES ASKED Communist Party Platfo...   \n",
       "2018-02-19  MSNBC ANCHOR Flabbergasted at What Texas Teach...   \n",
       "2018-02-19  Democrat Senator Warns Mueller Not To Release ...   \n",
       "\n",
       "                                                 article_body   subject  \\\n",
       "date                                                                      \n",
       "2015-03-31  In case you missed it Sen. Harry Reid (R-NV), ...  politics   \n",
       "2015-03-31  Does anyone really think Hillary Clinton will ...  politics   \n",
       "2015-03-31  The irony here isn t lost on us. Hillary is be...  politics   \n",
       "2015-03-31  The irony here isn t lost on us. Hillary is be...  politics   \n",
       "2015-03-31  In case you missed it Sen. Harry Reid (R-NV), ...  politics   \n",
       "...                                                       ...       ...   \n",
       "2018-02-18  Just one more reminder of why President Trump ...  politics   \n",
       "2018-02-18  A longtime Republican Party donor based in Flo...  politics   \n",
       "2018-02-19  Ami Horowitz is fantastic! Check out this man ...  politics   \n",
       "2018-02-19  If we protect every other government building ...  politics   \n",
       "2018-02-19  According to The Hill, Democrat Senator Bob Ca...  politics   \n",
       "\n",
       "            truth_value                                      article_clean  \n",
       "date                                                                        \n",
       "2015-03-31        False  in case you missed it sen harry reid rnv who a...  \n",
       "2015-03-31        False  does anyone really think hillary clinton will ...  \n",
       "2015-03-31        False  the irony here isn t lost on us hillary is bei...  \n",
       "2015-03-31        False  the irony here isn t lost on us hillary is bei...  \n",
       "2015-03-31        False  in case you missed it sen harry reid rnv who a...  \n",
       "...                 ...                                                ...  \n",
       "2018-02-18        False  just one more reminder of why president trump ...  \n",
       "2018-02-18        False  a longtime republican party donor based in flo...  \n",
       "2018-02-19        False  ami horowitz is fantastic check out this man o...  \n",
       "2018-02-19        False  if we protect every other government building ...  \n",
       "2018-02-19        False  according to the hill democrat senator bob cas...  \n",
       "\n",
       "[44887 rows x 5 columns]"
      ]
     },
     "execution_count": 30,
     "metadata": {},
     "output_type": "execute_result"
    }
   ],
   "source": [
    "df = df.drop(columns= ['date'])\n",
    "#df.reset_index(inplace=True)\n",
    "df"
   ]
  },
  {
   "cell_type": "code",
   "execution_count": 31,
   "metadata": {},
   "outputs": [
    {
     "data": {
      "text/html": [
       "<div>\n",
       "<style scoped>\n",
       "    .dataframe tbody tr th:only-of-type {\n",
       "        vertical-align: middle;\n",
       "    }\n",
       "\n",
       "    .dataframe tbody tr th {\n",
       "        vertical-align: top;\n",
       "    }\n",
       "\n",
       "    .dataframe thead th {\n",
       "        text-align: right;\n",
       "    }\n",
       "</style>\n",
       "<table border=\"1\" class=\"dataframe\">\n",
       "  <thead>\n",
       "    <tr style=\"text-align: right;\">\n",
       "      <th></th>\n",
       "      <th>article_headline</th>\n",
       "      <th>article_body</th>\n",
       "      <th>subject</th>\n",
       "      <th>truth_value</th>\n",
       "      <th>article_clean</th>\n",
       "      <th>raw_wd_count</th>\n",
       "    </tr>\n",
       "    <tr>\n",
       "      <th>date</th>\n",
       "      <th></th>\n",
       "      <th></th>\n",
       "      <th></th>\n",
       "      <th></th>\n",
       "      <th></th>\n",
       "      <th></th>\n",
       "    </tr>\n",
       "  </thead>\n",
       "  <tbody>\n",
       "    <tr>\n",
       "      <th>2015-03-31</th>\n",
       "      <td>WATCH DIRTY HARRY REID ON HIS LIE ABOUT ROMNEY...</td>\n",
       "      <td>In case you missed it Sen. Harry Reid (R-NV), ...</td>\n",
       "      <td>politics</td>\n",
       "      <td>False</td>\n",
       "      <td>in case you missed it sen harry reid rnv who a...</td>\n",
       "      <td>123</td>\n",
       "    </tr>\n",
       "    <tr>\n",
       "      <th>2015-03-31</th>\n",
       "      <td>BENGHAZI PANEL CALLS HILLARY TO TESTIFY UNDER ...</td>\n",
       "      <td>Does anyone really think Hillary Clinton will ...</td>\n",
       "      <td>politics</td>\n",
       "      <td>False</td>\n",
       "      <td>does anyone really think hillary clinton will ...</td>\n",
       "      <td>493</td>\n",
       "    </tr>\n",
       "    <tr>\n",
       "      <th>2015-03-31</th>\n",
       "      <td>HILLARY RODHAM NIXON: A CANDIDATE WITH MORE BA...</td>\n",
       "      <td>The irony here isn t lost on us. Hillary is be...</td>\n",
       "      <td>politics</td>\n",
       "      <td>False</td>\n",
       "      <td>the irony here isn t lost on us hillary is bei...</td>\n",
       "      <td>322</td>\n",
       "    </tr>\n",
       "    <tr>\n",
       "      <th>2015-03-31</th>\n",
       "      <td>HILLARY RODHAM NIXON: A CANDIDATE WITH MORE BA...</td>\n",
       "      <td>The irony here isn t lost on us. Hillary is be...</td>\n",
       "      <td>politics</td>\n",
       "      <td>False</td>\n",
       "      <td>the irony here isn t lost on us hillary is bei...</td>\n",
       "      <td>322</td>\n",
       "    </tr>\n",
       "    <tr>\n",
       "      <th>2015-03-31</th>\n",
       "      <td>WATCH DIRTY HARRY REID ON HIS LIE ABOUT ROMNEY...</td>\n",
       "      <td>In case you missed it Sen. Harry Reid (R-NV), ...</td>\n",
       "      <td>politics</td>\n",
       "      <td>False</td>\n",
       "      <td>in case you missed it sen harry reid rnv who a...</td>\n",
       "      <td>123</td>\n",
       "    </tr>\n",
       "  </tbody>\n",
       "</table>\n",
       "</div>"
      ],
      "text/plain": [
       "                                             article_headline  \\\n",
       "date                                                            \n",
       "2015-03-31  WATCH DIRTY HARRY REID ON HIS LIE ABOUT ROMNEY...   \n",
       "2015-03-31  BENGHAZI PANEL CALLS HILLARY TO TESTIFY UNDER ...   \n",
       "2015-03-31  HILLARY RODHAM NIXON: A CANDIDATE WITH MORE BA...   \n",
       "2015-03-31  HILLARY RODHAM NIXON: A CANDIDATE WITH MORE BA...   \n",
       "2015-03-31  WATCH DIRTY HARRY REID ON HIS LIE ABOUT ROMNEY...   \n",
       "\n",
       "                                                 article_body   subject  \\\n",
       "date                                                                      \n",
       "2015-03-31  In case you missed it Sen. Harry Reid (R-NV), ...  politics   \n",
       "2015-03-31  Does anyone really think Hillary Clinton will ...  politics   \n",
       "2015-03-31  The irony here isn t lost on us. Hillary is be...  politics   \n",
       "2015-03-31  The irony here isn t lost on us. Hillary is be...  politics   \n",
       "2015-03-31  In case you missed it Sen. Harry Reid (R-NV), ...  politics   \n",
       "\n",
       "            truth_value                                      article_clean  \\\n",
       "date                                                                         \n",
       "2015-03-31        False  in case you missed it sen harry reid rnv who a...   \n",
       "2015-03-31        False  does anyone really think hillary clinton will ...   \n",
       "2015-03-31        False  the irony here isn t lost on us hillary is bei...   \n",
       "2015-03-31        False  the irony here isn t lost on us hillary is bei...   \n",
       "2015-03-31        False  in case you missed it sen harry reid rnv who a...   \n",
       "\n",
       "            raw_wd_count  \n",
       "date                      \n",
       "2015-03-31           123  \n",
       "2015-03-31           493  \n",
       "2015-03-31           322  \n",
       "2015-03-31           322  \n",
       "2015-03-31           123  "
      ]
     },
     "execution_count": 31,
     "metadata": {},
     "output_type": "execute_result"
    }
   ],
   "source": [
    "def get_word_count(col):\n",
    "    col = pd.Series(col)\n",
    "\n",
    "    for i in col:\n",
    "        len(i.split())\n",
    "    return len(i.split())\n",
    "\n",
    "df['raw_wd_count'] = df.article_body.apply(get_word_count)\n",
    "df.head()\n"
   ]
  },
  {
   "cell_type": "code",
   "execution_count": 32,
   "metadata": {},
   "outputs": [
    {
     "name": "stdout",
     "output_type": "stream",
     "text": [
      "<class 'pandas.core.frame.DataFrame'>\n",
      "DatetimeIndex: 39109 entries, 2015-03-31 to 2018-02-19\n",
      "Data columns (total 6 columns):\n",
      " #   Column            Non-Null Count  Dtype \n",
      "---  ------            --------------  ----- \n",
      " 0   article_headline  39109 non-null  object\n",
      " 1   article_body      39109 non-null  object\n",
      " 2   subject           39109 non-null  object\n",
      " 3   truth_value       39109 non-null  bool  \n",
      " 4   article_clean     39109 non-null  object\n",
      " 5   raw_wd_count      39109 non-null  int64 \n",
      "dtypes: bool(1), int64(1), object(4)\n",
      "memory usage: 1.8+ MB\n"
     ]
    }
   ],
   "source": [
    "df = df.drop_duplicates()\n",
    "df.info()"
   ]
  },
  {
   "cell_type": "code",
   "execution_count": 33,
   "metadata": {},
   "outputs": [
    {
     "data": {
      "text/html": [
       "<div>\n",
       "<style scoped>\n",
       "    .dataframe tbody tr th:only-of-type {\n",
       "        vertical-align: middle;\n",
       "    }\n",
       "\n",
       "    .dataframe tbody tr th {\n",
       "        vertical-align: top;\n",
       "    }\n",
       "\n",
       "    .dataframe thead th {\n",
       "        text-align: right;\n",
       "    }\n",
       "</style>\n",
       "<table border=\"1\" class=\"dataframe\">\n",
       "  <thead>\n",
       "    <tr style=\"text-align: right;\">\n",
       "      <th></th>\n",
       "      <th>article_headline</th>\n",
       "      <th>article_body</th>\n",
       "      <th>subject</th>\n",
       "      <th>truth_value</th>\n",
       "      <th>article_clean</th>\n",
       "      <th>raw_wd_count</th>\n",
       "    </tr>\n",
       "    <tr>\n",
       "      <th>date</th>\n",
       "      <th></th>\n",
       "      <th></th>\n",
       "      <th></th>\n",
       "      <th></th>\n",
       "      <th></th>\n",
       "      <th></th>\n",
       "    </tr>\n",
       "  </thead>\n",
       "  <tbody>\n",
       "    <tr>\n",
       "      <th>2015-03-31</th>\n",
       "      <td>WATCH DIRTY HARRY REID ON HIS LIE ABOUT ROMNEY...</td>\n",
       "      <td>In case you missed it Sen. Harry Reid (R-NV), ...</td>\n",
       "      <td>politics</td>\n",
       "      <td>False</td>\n",
       "      <td>case missed sen harry reid rnv announced last ...</td>\n",
       "      <td>123</td>\n",
       "    </tr>\n",
       "    <tr>\n",
       "      <th>2015-03-31</th>\n",
       "      <td>BENGHAZI PANEL CALLS HILLARY TO TESTIFY UNDER ...</td>\n",
       "      <td>Does anyone really think Hillary Clinton will ...</td>\n",
       "      <td>politics</td>\n",
       "      <td>False</td>\n",
       "      <td>anyone really think hillary clinton come clean...</td>\n",
       "      <td>493</td>\n",
       "    </tr>\n",
       "    <tr>\n",
       "      <th>2015-03-31</th>\n",
       "      <td>HILLARY RODHAM NIXON: A CANDIDATE WITH MORE BA...</td>\n",
       "      <td>The irony here isn t lost on us. Hillary is be...</td>\n",
       "      <td>politics</td>\n",
       "      <td>False</td>\n",
       "      <td>irony lost us hillary compared president wante...</td>\n",
       "      <td>322</td>\n",
       "    </tr>\n",
       "  </tbody>\n",
       "</table>\n",
       "</div>"
      ],
      "text/plain": [
       "                                             article_headline  \\\n",
       "date                                                            \n",
       "2015-03-31  WATCH DIRTY HARRY REID ON HIS LIE ABOUT ROMNEY...   \n",
       "2015-03-31  BENGHAZI PANEL CALLS HILLARY TO TESTIFY UNDER ...   \n",
       "2015-03-31  HILLARY RODHAM NIXON: A CANDIDATE WITH MORE BA...   \n",
       "\n",
       "                                                 article_body   subject  \\\n",
       "date                                                                      \n",
       "2015-03-31  In case you missed it Sen. Harry Reid (R-NV), ...  politics   \n",
       "2015-03-31  Does anyone really think Hillary Clinton will ...  politics   \n",
       "2015-03-31  The irony here isn t lost on us. Hillary is be...  politics   \n",
       "\n",
       "            truth_value                                      article_clean  \\\n",
       "date                                                                         \n",
       "2015-03-31        False  case missed sen harry reid rnv announced last ...   \n",
       "2015-03-31        False  anyone really think hillary clinton come clean...   \n",
       "2015-03-31        False  irony lost us hillary compared president wante...   \n",
       "\n",
       "            raw_wd_count  \n",
       "date                      \n",
       "2015-03-31           123  \n",
       "2015-03-31           493  \n",
       "2015-03-31           322  "
      ]
     },
     "execution_count": 33,
     "metadata": {},
     "output_type": "execute_result"
    }
   ],
   "source": [
    "df.article_clean = df.article_clean.apply(prep.tokenize)\\\n",
    "    .apply(prep.remove_stopwords)\n",
    "\n",
    "df.head(3)"
   ]
  },
  {
   "cell_type": "code",
   "execution_count": 34,
   "metadata": {},
   "outputs": [
    {
     "data": {
      "text/html": [
       "<div>\n",
       "<style scoped>\n",
       "    .dataframe tbody tr th:only-of-type {\n",
       "        vertical-align: middle;\n",
       "    }\n",
       "\n",
       "    .dataframe tbody tr th {\n",
       "        vertical-align: top;\n",
       "    }\n",
       "\n",
       "    .dataframe thead th {\n",
       "        text-align: right;\n",
       "    }\n",
       "</style>\n",
       "<table border=\"1\" class=\"dataframe\">\n",
       "  <thead>\n",
       "    <tr style=\"text-align: right;\">\n",
       "      <th></th>\n",
       "      <th>article_headline</th>\n",
       "      <th>article_body</th>\n",
       "      <th>subject</th>\n",
       "      <th>truth_value</th>\n",
       "      <th>article_clean</th>\n",
       "      <th>raw_wd_count</th>\n",
       "      <th>article_stemmed</th>\n",
       "      <th>article_lemmatized</th>\n",
       "    </tr>\n",
       "    <tr>\n",
       "      <th>date</th>\n",
       "      <th></th>\n",
       "      <th></th>\n",
       "      <th></th>\n",
       "      <th></th>\n",
       "      <th></th>\n",
       "      <th></th>\n",
       "      <th></th>\n",
       "      <th></th>\n",
       "    </tr>\n",
       "  </thead>\n",
       "  <tbody>\n",
       "    <tr>\n",
       "      <th>2015-03-31</th>\n",
       "      <td>WATCH DIRTY HARRY REID ON HIS LIE ABOUT ROMNEY...</td>\n",
       "      <td>In case you missed it Sen. Harry Reid (R-NV), ...</td>\n",
       "      <td>politics</td>\n",
       "      <td>False</td>\n",
       "      <td>case missed sen harry reid rnv announced last ...</td>\n",
       "      <td>123</td>\n",
       "      <td>case miss sen harri reid rnv announc last week...</td>\n",
       "      <td>case missed sen harry reid rnv announced last ...</td>\n",
       "    </tr>\n",
       "    <tr>\n",
       "      <th>2015-03-31</th>\n",
       "      <td>BENGHAZI PANEL CALLS HILLARY TO TESTIFY UNDER ...</td>\n",
       "      <td>Does anyone really think Hillary Clinton will ...</td>\n",
       "      <td>politics</td>\n",
       "      <td>False</td>\n",
       "      <td>anyone really think hillary clinton come clean...</td>\n",
       "      <td>493</td>\n",
       "      <td>doe anyon realli think hillari clinton come cl...</td>\n",
       "      <td>doe anyone really think hillary clinton come c...</td>\n",
       "    </tr>\n",
       "    <tr>\n",
       "      <th>2015-03-31</th>\n",
       "      <td>HILLARY RODHAM NIXON: A CANDIDATE WITH MORE BA...</td>\n",
       "      <td>The irony here isn t lost on us. Hillary is be...</td>\n",
       "      <td>politics</td>\n",
       "      <td>False</td>\n",
       "      <td>irony lost us hillary compared president wante...</td>\n",
       "      <td>322</td>\n",
       "      <td>ironi lost us hillari compar presid want take ...</td>\n",
       "      <td>irony lost u hillary compared president wanted...</td>\n",
       "    </tr>\n",
       "  </tbody>\n",
       "</table>\n",
       "</div>"
      ],
      "text/plain": [
       "                                             article_headline  \\\n",
       "date                                                            \n",
       "2015-03-31  WATCH DIRTY HARRY REID ON HIS LIE ABOUT ROMNEY...   \n",
       "2015-03-31  BENGHAZI PANEL CALLS HILLARY TO TESTIFY UNDER ...   \n",
       "2015-03-31  HILLARY RODHAM NIXON: A CANDIDATE WITH MORE BA...   \n",
       "\n",
       "                                                 article_body   subject  \\\n",
       "date                                                                      \n",
       "2015-03-31  In case you missed it Sen. Harry Reid (R-NV), ...  politics   \n",
       "2015-03-31  Does anyone really think Hillary Clinton will ...  politics   \n",
       "2015-03-31  The irony here isn t lost on us. Hillary is be...  politics   \n",
       "\n",
       "            truth_value                                      article_clean  \\\n",
       "date                                                                         \n",
       "2015-03-31        False  case missed sen harry reid rnv announced last ...   \n",
       "2015-03-31        False  anyone really think hillary clinton come clean...   \n",
       "2015-03-31        False  irony lost us hillary compared president wante...   \n",
       "\n",
       "            raw_wd_count                                    article_stemmed  \\\n",
       "date                                                                          \n",
       "2015-03-31           123  case miss sen harri reid rnv announc last week...   \n",
       "2015-03-31           493  doe anyon realli think hillari clinton come cl...   \n",
       "2015-03-31           322  ironi lost us hillari compar presid want take ...   \n",
       "\n",
       "                                           article_lemmatized  \n",
       "date                                                           \n",
       "2015-03-31  case missed sen harry reid rnv announced last ...  \n",
       "2015-03-31  doe anyone really think hillary clinton come c...  \n",
       "2015-03-31  irony lost u hillary compared president wanted...  "
      ]
     },
     "execution_count": 34,
     "metadata": {},
     "output_type": "execute_result"
    }
   ],
   "source": [
    "df['article_stemmed'] = df.article_body.apply(prep.basic_clean)\\\n",
    "    .apply(prep.tokenize)\\\n",
    "        .apply(prep.stem)\\\n",
    "            .apply(prep.remove_stopwords)\n",
    "\n",
    "df['article_lemmatized'] = df.article_body.apply(prep.basic_clean)\\\n",
    "    .apply(prep.tokenize)\\\n",
    "        .apply(prep.lemmatize)\\\n",
    "            .apply(prep.remove_stopwords)\n",
    "\n",
    "df.head(3)"
   ]
  },
  {
   "cell_type": "markdown",
   "metadata": {},
   "source": [
    "End wrangle/prep."
   ]
  },
  {
   "cell_type": "markdown",
   "metadata": {},
   "source": [
    "### NLP exploration\n",
    "\n",
    "- What are the most common words in these articles? \n",
    "    - What are the most common words in fake articles?\n",
    "    - What are the most common words in real articles?"
   ]
  },
  {
   "cell_type": "code",
   "execution_count": 35,
   "metadata": {},
   "outputs": [
    {
     "data": {
      "text/plain": [
       "str"
      ]
     },
     "execution_count": 35,
     "metadata": {},
     "output_type": "execute_result"
    }
   ],
   "source": [
    "pol_lem_corpus = ' '.join(df[df.subject == 'politics'].article_lemmatized)\n",
    "type(pol_lem_corpus)"
   ]
  },
  {
   "cell_type": "code",
   "execution_count": 39,
   "metadata": {},
   "outputs": [
    {
     "data": {
      "text/plain": [
       "Text(0.5, 1.0, 'Top 20 Words in Politics Articles (lemma)')"
      ]
     },
     "execution_count": 39,
     "metadata": {},
     "output_type": "execute_result"
    },
    {
     "data": {
      "image/png": "[encoded data removed]",
      "text/plain": [
       "<Figure size 936x504 with 1 Axes>"
      ]
     },
     "metadata": {
      "needs_background": "light"
     },
     "output_type": "display_data"
    }
   ],
   "source": [
    "pol_lem_freq = pd.Series(pol_lem_corpus.split()).value_counts()\n",
    "plt.figure(figsize=(13,7))\n",
    "pol_lem_freq.sort_values(ascending=False).head(20).plot.barh()\n",
    "plt.title('Top 20 Words in Politics Articles (lemma)')"
   ]
  },
  {
   "cell_type": "code",
   "execution_count": 40,
   "metadata": {},
   "outputs": [
    {
     "data": {
      "text/plain": [
       "Text(0.5, 1.0, 'Top 20 Words in Fake Politics Articles (lemma)')"
      ]
     },
     "execution_count": 40,
     "metadata": {},
     "output_type": "execute_result"
    },
    {
     "data": {
      "image/png": "[encoded data removed]",
      "text/plain": [
       "<Figure size 936x504 with 1 Axes>"
      ]
     },
     "metadata": {
      "needs_background": "light"
     },
     "output_type": "display_data"
    }
   ],
   "source": [
    "fake_pol_corpus = ' '.join(df[(df.subject == 'politics') & (df.truth_value == False)].article_lemmatized)\n",
    "fake_pol_freq = pd.Series(fake_pol_corpus.split()).value_counts()\n",
    "\n",
    "plt.figure(figsize= (13,7))\n",
    "fake_pol_freq.sort_values(ascending=False).head(20).plot.barh()\n",
    "plt.title('Top 20 Words in Fake Politics Articles (lemma)')"
   ]
  },
  {
   "cell_type": "code",
   "execution_count": 41,
   "metadata": {},
   "outputs": [
    {
     "data": {
      "text/plain": [
       "Text(0.5, 1.0, 'Top 20 Words in True Politics Articles (lemma)')"
      ]
     },
     "execution_count": 41,
     "metadata": {},
     "output_type": "execute_result"
    },
    {
     "data": {
      "image/png": "[encoded data removed]",
      "text/plain": [
       "<Figure size 936x504 with 1 Axes>"
      ]
     },
     "metadata": {
      "needs_background": "light"
     },
     "output_type": "display_data"
    }
   ],
   "source": [
    "true_pol_corpus = ' '.join(df[(df.subject == 'politics') & (df.truth_value == True)].article_lemmatized)\n",
    "true_pol_freq = pd.Series(true_pol_corpus.split()).value_counts()\n",
    "\n",
    "plt.figure(figsize= (13,7))\n",
    "true_pol_freq.sort_values(ascending=False).head(20).plot.barh()\n",
    "plt.title('Top 20 Words in True Politics Articles (lemma)')"
   ]
  }
 ],
 "metadata": {
  "interpreter": {
   "hash": "38cca0c38332a56087b24af0bc80247f4fced29cb4f7f437d91dc159adec9c4e"
  },
  "kernelspec": {
   "display_name": "Python 3.9.7 ('base')",
   "language": "python",
   "name": "python3"
  },
  "language_info": {
   "codemirror_mode": {
    "name": "ipython",
    "version": 3
   },
   "file_extension": ".py",
   "mimetype": "text/x-python",
   "name": "python",
   "nbconvert_exporter": "python",
   "pygments_lexer": "ipython3",
   "version": "3.9.7"
  },
  "orig_nbformat": 4
 },
 "nbformat": 4,
 "nbformat_minor": 2
}
